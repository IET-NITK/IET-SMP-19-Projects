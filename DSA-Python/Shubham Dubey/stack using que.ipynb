{
 "cells": [
  {
   "cell_type": "code",
   "execution_count": 18,
   "metadata": {},
   "outputs": [],
   "source": [
    "\n",
    "\n",
    "def push(d,stack):\n",
    "    stack.append(d)\n",
    "    return stack\n",
    "def pop(que):\n",
    "    a=[]\n",
    "    if len(que)==0:\n",
    "        print('stack underflow........')\n",
    "    else:\n",
    "        for x in range(len(que)-1):\n",
    "            a.append(que[x])\n",
    "        return a\n",
    "stack=[]\n",
    "stack=push(10,stack)\n",
    "stack=push(20,stack)\n",
    "stack=push(30,stack)\n",
    "stack=push(40,stack)\n",
    "stack=push(50,stack)\n",
    "stack=pop(stack)\n",
    "stack=pop(stack)\n",
    "stack=push(70,stack)\n"
   ]
  },
  {
   "cell_type": "code",
   "execution_count": 19,
   "metadata": {},
   "outputs": [
    {
     "data": {
      "text/plain": [
       "[10, 20, 30, 70]"
      ]
     },
     "execution_count": 19,
     "metadata": {},
     "output_type": "execute_result"
    }
   ],
   "source": [
    "stack"
   ]
  },
  {
   "cell_type": "code",
   "execution_count": null,
   "metadata": {},
   "outputs": [],
   "source": []
  }
 ],
 "metadata": {
  "kernelspec": {
   "display_name": "Python 3",
   "language": "python",
   "name": "python3"
  },
  "language_info": {
   "codemirror_mode": {
    "name": "ipython",
    "version": 3
   },
   "file_extension": ".py",
   "mimetype": "text/x-python",
   "name": "python",
   "nbconvert_exporter": "python",
   "pygments_lexer": "ipython3",
   "version": "3.7.3"
  }
 },
 "nbformat": 4,
 "nbformat_minor": 2
}
