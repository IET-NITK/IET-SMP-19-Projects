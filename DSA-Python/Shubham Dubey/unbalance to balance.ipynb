{
 "cells": [
  {
   "cell_type": "code",
   "execution_count": 45,
   "metadata": {},
   "outputs": [],
   "source": [
    "class node:\n",
    "    def __init__(self):\n",
    "        self.data=None\n",
    "        self.left=None\n",
    "        self.right=None\n",
    "        \n",
    "root=node()\n",
    "temp=node()\n",
    "root.data=50\n",
    "temp.data=40\n",
    "root.left=temp\n",
    "temp=node()\n",
    "temp.data=60\n",
    "root.right=temp\n",
    "temp=node()\n",
    "temp.data=35\n",
    "root.left.left=temp\n",
    "temp=node()\n",
    "temp.data=42\n",
    "root.left.right=temp\n",
    "temp=node()\n",
    "temp.data=51\n",
    "root.right.left=temp\n",
    "temp=node()\n",
    "temp.data=100\n",
    "root.right.right=temp\n",
    "\n",
    "\n",
    "elements=[]\n",
    "def inorder(root):\n",
    "    if root:\n",
    "        inorder(root.left)\n",
    "        elements.append(root.data)\n",
    "        inorder(root.right)\n",
    "\n",
    "inorder(root)"
   ]
  },
  {
   "cell_type": "code",
   "execution_count": 46,
   "metadata": {},
   "outputs": [],
   "source": [
    "root=None\n",
    "def nextroot(start,end):\n",
    "    if end >= start:\n",
    "        v=int(start+(end-start)/2)\n",
    "        troot=node()\n",
    "        troot.data=elements[v]\n",
    "        troot.left=nextroot(start,v-1);\n",
    "        troot.right=nextroot(v+1,end);\n",
    "        return troot;\n",
    "    return None"
   ]
  },
  {
   "cell_type": "code",
   "execution_count": 47,
   "metadata": {},
   "outputs": [],
   "source": [
    "\n",
    "root=nextroot(0,len(elements)-1)"
   ]
  },
  {
   "cell_type": "code",
   "execution_count": 48,
   "metadata": {},
   "outputs": [
    {
     "name": "stdout",
     "output_type": "stream",
     "text": [
      "35\n",
      "40\n",
      "42\n",
      "50\n",
      "51\n",
      "60\n",
      "100\n"
     ]
    }
   ],
   "source": [
    "def inorder1(root):\n",
    "    if root:\n",
    "        inorder1(root.left)\n",
    "        print(root.data)\n",
    "        inorder1(root.right)\n",
    "\n",
    "inorder1(root)"
   ]
  },
  {
   "cell_type": "markdown",
   "metadata": {},
   "source": []
  },
  {
   "cell_type": "code",
   "execution_count": null,
   "metadata": {},
   "outputs": [],
   "source": []
  }
 ],
 "metadata": {
  "kernelspec": {
   "display_name": "Python 3",
   "language": "python",
   "name": "python3"
  },
  "language_info": {
   "codemirror_mode": {
    "name": "ipython",
    "version": 3
   },
   "file_extension": ".py",
   "mimetype": "text/x-python",
   "name": "python",
   "nbconvert_exporter": "python",
   "pygments_lexer": "ipython3",
   "version": "3.7.3"
  }
 },
 "nbformat": 4,
 "nbformat_minor": 2
}
