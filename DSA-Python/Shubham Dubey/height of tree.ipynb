{
 "cells": [
  {
   "cell_type": "code",
   "execution_count": 2,
   "metadata": {},
   "outputs": [
    {
     "name": "stdout",
     "output_type": "stream",
     "text": [
      "4\n"
     ]
    }
   ],
   "source": [
    "class node:\n",
    "    def  __init__(self):\n",
    "        self.data=None\n",
    "        self.left=None\n",
    "        self.right=None\n",
    "root=node()\n",
    "root.data=50\n",
    "temp=node()\n",
    "temp.data=30\n",
    "root.left=temp\n",
    "temp=node()\n",
    "temp.data=20\n",
    "root.left.left=temp\n",
    "temp=node()\n",
    "temp.data=10\n",
    "root.left.left.left=temp\n",
    "\n",
    "temp=node()\n",
    "temp.data=70\n",
    "root.right=temp \n",
    "temp=node()\n",
    "temp.data=90\n",
    "root.right.right=temp \n",
    "temp=node()\n",
    "temp.data=60\n",
    "root.right.left=temp \n",
    "\n",
    "\n",
    "\n",
    "def height(root):\n",
    "    if root:\n",
    "        return 1+max(height(root.left),height(root.right))\n",
    "    else:\n",
    "        return 0\n",
    "print(height(root))"
   ]
  },
  {
   "cell_type": "code",
   "execution_count": null,
   "metadata": {},
   "outputs": [],
   "source": []
  }
 ],
 "metadata": {
  "kernelspec": {
   "display_name": "Python 3",
   "language": "python",
   "name": "python3"
  },
  "language_info": {
   "codemirror_mode": {
    "name": "ipython",
    "version": 3
   },
   "file_extension": ".py",
   "mimetype": "text/x-python",
   "name": "python",
   "nbconvert_exporter": "python",
   "pygments_lexer": "ipython3",
   "version": "3.7.3"
  }
 },
 "nbformat": 4,
 "nbformat_minor": 2
}
