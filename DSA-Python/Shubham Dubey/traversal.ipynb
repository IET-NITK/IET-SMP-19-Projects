{
 "cells": [
  {
   "cell_type": "code",
   "execution_count": 5,
   "metadata": {},
   "outputs": [],
   "source": [
    "class node:\n",
    "    def __init__(self):\n",
    "        self.data=None\n",
    "        self.left=None\n",
    "        self.right=None\n",
    "root=node()\n",
    "temp=node()\n",
    "root.data=50\n",
    "temp.data=30\n",
    "root.left=temp\n",
    "temp=node()\n",
    "temp.data=60\n",
    "root.right=temp"
   ]
  },
  {
   "cell_type": "code",
   "execution_count": 8,
   "metadata": {},
   "outputs": [],
   "source": [
    "def inorder(root):\n",
    "    if root:\n",
    "        inorder(root.left)\n",
    "        print(root.data,end=' ')\n",
    "        inorder(root.right)\n",
    "\n",
    "def preorder(root):\n",
    "    if root:\n",
    "        print(root.data,end=' ')\n",
    "        preorder(root.left)\n",
    "        preorder(root.right)\n",
    "        \n",
    "def postorder(root):\n",
    "    if root:\n",
    "        \n",
    "        postorder(root.left)\n",
    "        postorder(root.right)\n",
    "        print(root.data,end=' ')"
   ]
  },
  {
   "cell_type": "code",
   "execution_count": 9,
   "metadata": {},
   "outputs": [
    {
     "name": "stdout",
     "output_type": "stream",
     "text": [
      "Inorder- \n",
      "30\n",
      "50\n",
      "60\n",
      "\n",
      "Preorder- \n",
      "50\n",
      "30\n",
      "60\n",
      "\n",
      "Postorder- \n",
      "30\n",
      "60\n",
      "50\n",
      "\n"
     ]
    }
   ],
   "source": [
    "print('Inorder- ')\n",
    "inorder(root)\n",
    "print()\n",
    "print('Preorder- ')\n",
    "preorder(root)\n",
    "print()\n",
    "print('Postorder- ')\n",
    "postorder(root)\n",
    "print()"
   ]
  },
  {
   "cell_type": "code",
   "execution_count": null,
   "metadata": {},
   "outputs": [],
   "source": []
  }
 ],
 "metadata": {
  "kernelspec": {
   "display_name": "Python 3",
   "language": "python",
   "name": "python3"
  },
  "language_info": {
   "codemirror_mode": {
    "name": "ipython",
    "version": 3
   },
   "file_extension": ".py",
   "mimetype": "text/x-python",
   "name": "python",
   "nbconvert_exporter": "python",
   "pygments_lexer": "ipython3",
   "version": "3.7.3"
  }
 },
 "nbformat": 4,
 "nbformat_minor": 2
}
